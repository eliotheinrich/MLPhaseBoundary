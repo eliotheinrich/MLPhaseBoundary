{
 "cells": [
  {
   "cell_type": "markdown",
   "metadata": {},
   "source": [
    "# Physics 256\n",
    "## Metropolis Monte Carlo\n",
    "\n",
    "<img src='https://c.o0bg.com/rf/image_960w/Boston/2011-2020/2015/06/03/BostonGlobe.com/Arts/Images/24w.jpg', width=600px>"
   ]
  },
  {
   "cell_type": "code",
   "execution_count": 1,
   "metadata": {
    "collapsed": false
   },
   "outputs": [],
   "source": [
    "import matplotlib.pyplot as plt\n",
    "import numpy as np\n",
    "\n",
    "#%matplotlib inline\n",
    "#plt.style.use('notebook');\n",
    "#%config InlineBackend.figure_format = 'retina'\n",
    "colors = [\"#2078B5\", \"#FF7F0F\", \"#2CA12C\", \"#D72827\", \"#9467BE\", \"#8C574B\",\n",
    "            \"#E478C2\", \"#808080\", \"#BCBE20\", \"#17BED0\", \"#AEC8E9\", \"#FFBC79\", \n",
    "            \"#98E08B\", \"#FF9896\", \"#C6B1D6\", \"#C59D94\", \"#F8B7D3\", \"#C8C8C8\", \n",
    "           \"#DCDC8E\", \"#9EDAE6\"]"
   ]
  },
  {
   "cell_type": "markdown",
   "metadata": {},
   "source": [
    "### Ising Model of Ferromagnatism\n",
    "\n",
    "Measuring energies in units where $J=k_{\\rm B} = 1$ we can write the Ising model Hamiltonian:\n",
    "\n",
    "\\begin{equation}\n",
    "H = - \\sum_{\\langle i,j\\rangle } \\sigma_i \\sigma_j\n",
    "\\end{equation}\n",
    "\n",
    "where $\\sigma_i = \\pm 1$ and $\\langle i,j \\rangle$ means that sites $i$ and $j$ are nearest neighbors.  Let's consider a $N = L \\times L$ square lattice in $d=2$ with periodic boundary conditions.  This is equivalent to wrapping our lattice onto the surface of a torus.\n",
    "\n",
    "<img src=\"https://upload.wikimedia.org/wikipedia/commons/6/60/Torus_from_rectangle.gif\" width=400px>\n",
    "\n",
    "In two dimensions, our *spin* array $\\sigma_i$ can be written as a matrix:"
   ]
  },
  {
   "cell_type": "code",
   "execution_count": 2,
   "metadata": {
    "collapsed": false
   },
   "outputs": [
    {
     "data": {
      "image/png": "[encoded data removed]",
      "text/plain": [
       "<matplotlib.figure.Figure at 0x1a866af1208>"
      ]
     },
     "metadata": {},
     "output_type": "display_data"
    }
   ],
   "source": [
    "def initialize_config(L):\n",
    "    '''Initialize a random spin configuration'''\n",
    "\n",
    "    σ = np.ones([L,L],dtype=int)\n",
    "    σ[np.random.random([L,L])<=0.5] = -1\n",
    "    return σ\n",
    "\n",
    "\n",
    "L = 10\n",
    "σ = initialize_config(L)\n",
    "\n",
    "# visualize\n",
    "plt.matshow(σ, cmap='gray', extent=[0,9,0,9]);\n",
    "plt.xticks([]);\n",
    "plt.yticks([]);\n",
    "plt.show()"
   ]
  },
  {
   "cell_type": "markdown",
   "metadata": {},
   "source": [
    "In terms of this matrix, the energy can be written as:\n",
    "\n",
    "\\begin{equation}\n",
    "E = - \\frac{1}{2}\\sum_{i=0}^{L-1} \\sum_{j=0}^{L-1} \\sigma[i,j]\\left(\\sigma[i+1,j] + \\sigma[i-1,j] + \\sigma[i,j+1] + \\sigma[i,j-1]\\right)\n",
    "\\end{equation}\n",
    "\n",
    "How do we deal with the periodic boundary conditions?"
   ]
  },
  {
   "cell_type": "code",
   "execution_count": 3,
   "metadata": {
    "collapsed": false
   },
   "outputs": [
    {
     "name": "stdout",
     "output_type": "stream",
     "text": [
      "[1 2 3 4 5 6 7 8 9 0]\n",
      "[9 0 1 2 3 4 5 6 7 8]\n"
     ]
    }
   ],
   "source": [
    "p1 = np.arange(1,L+1)\n",
    "p1[-1] = 0\n",
    "m1 = np.arange(-1,L-1)\n",
    "m1[0] = L-1\n",
    "\n",
    "print(p1)\n",
    "print(m1)"
   ]
  },
  {
   "cell_type": "markdown",
   "metadata": {},
   "source": [
    "<div class=\"span alert alert-success\">\n",
    "<h2> Programming challenge </h2>\n",
    "Complete the function that computes the energy $E$ and magnetization $M$ of a 2d Ising model.\n",
    "</div>\n",
    "\n",
    "<!--\n",
    "    for i in range(σ.shape[0]):\n",
    "        for j in range(σ.shape[1]):\n",
    "            cE -= σ[i,j] * (σ[p1[i],j] + σ[m1[i],j] + σ[i,p1[j]] + σ[i,m1[j]])\n",
    "-->"
   ]
  },
  {
   "cell_type": "code",
   "execution_count": 4,
   "metadata": {
    "collapsed": true
   },
   "outputs": [],
   "source": [
    "def get_props(σ):\n",
    "    '''The energy E and magnetization M for a microstate of the 2d Ising model.'''\n",
    "    E,M = 0,0\n",
    "    for i in range(σ.shape[0]):\n",
    "        for j in range(σ.shape[1]):\n",
    "            M += σ[i,j]\n",
    "            E -= 0.5*σ[i,j]*(σ[p1[i],j] + σ[m1[i],j] + σ[i,p1[j]] + σ[i,m1[j]])\n",
    "    return E,M"
   ]
  },
  {
   "cell_type": "code",
   "execution_count": 5,
   "metadata": {
    "collapsed": false
   },
   "outputs": [
    {
     "data": {
      "text/plain": [
       "(-8.0, -16)"
      ]
     },
     "execution_count": 5,
     "metadata": {},
     "output_type": "execute_result"
    }
   ],
   "source": [
    "get_props(σ)"
   ]
  },
  {
   "cell_type": "markdown",
   "metadata": {},
   "source": [
    "## Monte Carlo Update\n",
    "\n",
    "An update consists of flipping an individual spin and we need to determine the change in energy.  Suppose we flip the spin with index $k,\\ell$, then: $\\sigma'[k,\\ell] = -\\sigma[k,\\ell]$ and we can write:\n",
    "\n",
    "\\begin{align*}\n",
    "\\Delta E &= E' - E \\newline\n",
    "&= 2\\sigma[k,\\ell]\\left(\\sigma[k+1,\\ell] + \\sigma[k-1,\\ell] + \\sigma[k,\\ell+1] + \\sigma[k,\\ell-1]\\right).\n",
    "\\end{align*}\n",
    "\n",
    "and \n",
    "\n",
    "\\begin{equation}\n",
    "\\Delta M = 2 \\sigma[k,\\ell]\n",
    "\\end{equation}\n",
    "\n",
    "and thus the acceptance probability for the move will be:\n",
    "\n",
    "\\begin{equation}\n",
    "P_{\\rm acc} = \\mathrm{e}^{-\\Delta E/T}.\n",
    "\\end{equation}\n",
    "\n",
    "Each Monte Carlo update consists of:\n",
    "\n",
    "1. Select a random spin to flip with equal probability\n",
    "2. Calculate $\\Delta E$\n",
    "3. Generate a uniform random number $r \\in \\mathcal{U}_{[0,1)}$\n",
    "4. Perform the Metropolis test\n",
    "    - If $r < \\mathrm{e}^{-\\Delta E/T}$: accept the move\n",
    "    - Otherwise: do nothing\n",
    "5. Measure the magnetization\n",
    "\n",
    "A Monte Carlo **step** consists of $N=L^2$ updates."
   ]
  },
  {
   "cell_type": "code",
   "execution_count": 6,
   "metadata": {
    "collapsed": true
   },
   "outputs": [],
   "source": [
    "def monte_carlo_step(σ,T):\n",
    "    '''Perform a Monte Carlo step.'''\n",
    "    \n",
    "    # get the current magnetization\n",
    "    M = np.sum(σ)\n",
    "    \n",
    "    # attempt L^2 spin flips\n",
    "    for update in range(σ.size):\n",
    "        \n",
    "        # get the random spin\n",
    "        k = np.random.randint(0,σ.shape[0])\n",
    "        ℓ = np.random.randint(0,σ.shape[1])\n",
    "        \n",
    "        # calculate the change in energy\n",
    "        ΔE = 2*σ[k,ℓ]*(σ[p1[k],ℓ] + σ[m1[k],ℓ] + σ[k,p1[ℓ]] + σ[k,m1[ℓ]])\n",
    "        \n",
    "        # perform the Metropolis test\n",
    "        if np.random.random() <= np.exp(-ΔE/T):\n",
    "            σ[k,ℓ] *= -1\n",
    "\n",
    "            # Update the magnetization\n",
    "            M += 2*σ[k,ℓ]\n",
    "    \n",
    "    return M"
   ]
  },
  {
   "cell_type": "code",
   "execution_count": 7,
   "metadata": {
    "collapsed": false
   },
   "outputs": [
    {
     "data": {
      "image/png": "[encoded data removed]",
      "text/plain": [
       "<matplotlib.figure.Figure at 0x1a86a858978>"
      ]
     },
     "metadata": {},
     "output_type": "display_data"
    }
   ],
   "source": [
    "σ = initialize_config(L)\n",
    "# visualize\n",
    "plt.matshow(σ, cmap='gray', extent=[0,9,0,9]);\n",
    "plt.xticks([]);\n",
    "plt.yticks([]);\n",
    "get_props(σ)\n",
    "plt.show()"
   ]
  },
  {
   "cell_type": "code",
   "execution_count": 8,
   "metadata": {
    "collapsed": false
   },
   "outputs": [
    {
     "data": {
      "image/png": "[encoded data removed]",
      "text/plain": [
       "<matplotlib.figure.Figure at 0x1a86a8821d0>"
      ]
     },
     "metadata": {},
     "output_type": "display_data"
    }
   ],
   "source": [
    "monte_carlo_step(σ,0.1)\n",
    "plt.matshow(σ, cmap='gray', extent=[0,9,0,9]);\n",
    "plt.xticks([]);\n",
    "plt.yticks([]);\n",
    "get_props(σ)\n",
    "plt.show()"
   ]
  },
  {
   "cell_type": "markdown",
   "metadata": {},
   "source": [
    "### Monte Carlo Simulation\n",
    "\n",
    "A simulation consists of performing a large number of Monte Carlo steps at each temperature starting from some random initial configuration."
   ]
  },
  {
   "cell_type": "code",
   "execution_count": 9,
   "metadata": {
    "collapsed": true
   },
   "outputs": [],
   "source": [
    "# temperatures to consider\n",
    "T = np.arange(0.2,2.5,0.2)\n",
    "T = np.arange(2.6,2.91,0.2)\n",
    "# number of Monte Carlo steps we will perform\n",
    "num_steps = 2**16\n",
    "\n",
    "# magnetization for each temperature\n",
    "M = np.zeros([num_steps,T.size])"
   ]
  },
  {
   "cell_type": "code",
   "execution_count": 10,
   "metadata": {
    "collapsed": false
   },
   "outputs": [],
   "source": [
    "# initialize\n",
    "L = 5\n",
    "σ = initialize_config(L)\n",
    "\n",
    "# create PBC lookup tables\n",
    "p1 = np.arange(1,L+1)\n",
    "p1[-1] = 0\n",
    "m1 = np.arange(-1,L-1)\n",
    "m1[0] - L-1\n",
    "\n",
    "# Loop over temperatures from high to low\n",
    "for iT,cT in enumerate(T[::-1]):\n",
    "    m = T.size - 1 - iT\n",
    "    \n",
    "    # initialize the magnetization\n",
    "    M[0,m] = np.sum(σ)\n",
    "    \n",
    "    # Perform the Monte Carlo steps\n",
    "    for step in range(1,num_steps):\n",
    "        M[step,m] = monte_carlo_step(σ,cT)"
   ]
  },
  {
   "cell_type": "markdown",
   "metadata": {},
   "source": [
    "## Observing the  results"
   ]
  },
  {
   "cell_type": "code",
   "execution_count": 11,
   "metadata": {
    "collapsed": false
   },
   "outputs": [
    {
     "data": {
      "image/png": "[encoded data removed]",
      "text/plain": [
       "<matplotlib.figure.Figure at 0x1a86a93d5c0>"
      ]
     },
     "metadata": {},
     "output_type": "display_data"
    }
   ],
   "source": [
    "iT = 0\n",
    "#print(T[iT])\n",
    "plt.plot(M[:,iT]/L**2,'-', label='T = %3.1f' %T[iT])\n",
    "plt.legend()\n",
    "plt.xlabel('MC Step')\n",
    "plt.ylabel('Magnetization per spin')\n",
    "plt.show()"
   ]
  },
  {
   "cell_type": "code",
   "execution_count": 12,
   "metadata": {
    "collapsed": false
   },
   "outputs": [
    {
     "data": {
      "text/plain": [
       "array([2.6, 2.8])"
      ]
     },
     "execution_count": 12,
     "metadata": {},
     "output_type": "execute_result"
    }
   ],
   "source": [
    "T"
   ]
  },
  {
   "cell_type": "markdown",
   "metadata": {},
   "source": [
    "## Analyzing the results\n",
    "\n",
    "We want to compute the average value at each temperature, but we need to skip some number of initial measurements as the system takes some *time* to equilibrate."
   ]
  },
  {
   "cell_type": "code",
   "execution_count": 13,
   "metadata": {
    "collapsed": false
   },
   "outputs": [],
   "source": [
    "#np.savetxt('/Users/agdelma/Documents/UVM/Talks/2018/CompManyBody.06/Notebooks/mc_data.txt',M[:,iT]/L**2)"
   ]
  },
  {
   "cell_type": "code",
   "execution_count": 14,
   "metadata": {
    "collapsed": true
   },
   "outputs": [],
   "source": [
    "skip = 2000\n",
    "m = np.average(M[skip:]/L**2,axis=0)\n",
    "δm = np.std(M[skip:]/L**2,axis=0)/np.sqrt(num_steps-skip)"
   ]
  },
  {
   "cell_type": "code",
   "execution_count": 15,
   "metadata": {
    "collapsed": false
   },
   "outputs": [
    {
     "data": {
      "image/png": "[encoded data removed]",
      "text/plain": [
       "<matplotlib.figure.Figure at 0x1a86ac22e10>"
      ]
     },
     "metadata": {},
     "output_type": "display_data"
    }
   ],
   "source": [
    "plt.errorbar(T,np.abs(m),yerr=δm, linewidth=0.5, marker='o', markerfacecolor='None', markeredgecolor=colors[0], markersize=4, elinewidth=0.5)\n",
    "plt.axvline(x=2.0/np.log(1.0+np.sqrt(2.0)), linewidth=1, color='gray', linestyle='--')\n",
    "#plt.xlim(0.2,2.4)\n",
    "#plt.ylim(-0.01,1.1)\n",
    "plt.xlabel(r'Temperature ($k_{\\rm B}T/J$)')\n",
    "plt.ylabel('Magnetization per spin')\n",
    "plt.title(\"L = 5\")\n",
    "plt.show()"
   ]
  },
  {
   "cell_type": "markdown",
   "metadata": {},
   "source": [
    "## Load some data for a *much* longer run and $L=32$ from disk and compare with the exact Onsager solution"
   ]
  },
  {
   "cell_type": "markdown",
   "metadata": {},
   "source": [
    "\\begin{equation}\n",
    "M=\\left(1-\\left[\\sinh \\frac{2J}{k_{\\rm B}T}\\right]^{-4}\\right)^{\\frac {1}{8}}\n",
    "\\end{equation}"
   ]
  },
  {
   "cell_type": "code",
   "execution_count": 16,
   "metadata": {
    "collapsed": false
   },
   "outputs": [],
   "source": [
    "def magnetization_exact_(T):\n",
    "    '''We use units where J/k_B = 1.'''\n",
    "    Tc = 2.0/np.log(1.0+np.sqrt(2.0))\n",
    "    if T < Tc:\n",
    "        return (1.0 - np.sinh(2.0/T)**(-4))**(1.0/8)\n",
    "    else:\n",
    "        return 0.0\n",
    "magnetization_exact = np.vectorize(magnetization_exact_)"
   ]
  },
  {
   "cell_type": "code",
   "execution_count": 17,
   "metadata": {
    "collapsed": false
   },
   "outputs": [
    {
     "data": {
      "text/plain": [
       "<matplotlib.legend.Legend at 0x1a86bfbdf60>"
      ]
     },
     "execution_count": 17,
     "metadata": {},
     "output_type": "execute_result"
    }
   ],
   "source": [
    "data = np.loadtxt('data/Ising_estimators_032.dat')\n",
    "lT = np.linspace(0.01,4,1000)\n",
    "lL = 32\n",
    "\n",
    "plt.plot(lT,magnetization_exact(lT),'-k', linewidth=1, label='Exact')\n",
    "plt.errorbar(data[:,0],np.abs(data[:,5])/lL**2,yerr=data[:,6]/lL**2, linewidth=0.5, marker='o', markerfacecolor='None', \n",
    "             markeredgecolor=colors[0], markersize=4, elinewidth=0.5, label='Monte Carlo')\n",
    "plt.xlim(0.2,4)\n",
    "plt.ylim(0,1.1)\n",
    "plt.xlabel(r'Temperature ($k_{\\rm B}T/J$)')\n",
    "plt.ylabel('Magnetization per spin')\n",
    "plt.title(\"L = 32\")\n",
    "plt.legend()"
   ]
  },
  {
   "cell_type": "code",
   "execution_count": null,
   "metadata": {
    "collapsed": true
   },
   "outputs": [],
   "source": []
  },
  {
   "cell_type": "code",
   "execution_count": null,
   "metadata": {
    "collapsed": true
   },
   "outputs": [],
   "source": []
  }
 ],
 "metadata": {
  "kernelspec": {
   "display_name": "Python 3",
   "language": "python",
   "name": "python3"
  },
  "language_info": {
   "codemirror_mode": {
    "name": "ipython",
    "version": 3
   },
   "file_extension": ".py",
   "mimetype": "text/x-python",
   "name": "python",
   "nbconvert_exporter": "python",
   "pygments_lexer": "ipython3",
   "version": "3.6.0"
  }
 },
 "nbformat": 4,
 "nbformat_minor": 2
}
